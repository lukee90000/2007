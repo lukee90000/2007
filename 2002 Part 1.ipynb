{
 "cells": [
  {
   "cell_type": "code",
   "execution_count": 1,
   "id": "e688edcb",
   "metadata": {
    "scrolled": false
   },
   "outputs": [],
   "source": [
    "import pandas as pd\n",
    "from sklearn.preprocessing import MinMaxScaler\n",
    "import numpy as np\n",
    "from sklearn.neural_network import MLPClassifier\n",
    "from sklearn.svm import SVR\n",
    "from sklearn.metrics import mean_squared_error\n",
    "import math\n",
    "\n",
    "from sklearn.ensemble import RandomForestClassifier\n",
    "from sklearn.metrics import accuracy_score, confusion_matrix, precision_score, recall_score, ConfusionMatrixDisplay\n",
    "from sklearn.model_selection import RandomizedSearchCV, train_test_split\n",
    "from scipy.stats import randint\n",
    "\n",
    "\n",
    "\n",
    "containers = pd.read_csv('containers.csv')\n",
    "containers_data = containers.drop(columns=['Ship Name', 'Capacity', 'Ship ID'])\n",
    "\n",
    "scaler = MinMaxScaler()\n",
    "scaler.fit(containers_data)\n",
    "Normal_containers_data = scaler.transform(containers_data)\n",
    "\n",
    "\n",
    "X = Normal_containers_data\n",
    "Y = containers['Capacity']\n",
    "\n",
    "\n"
   ]
  },
  {
   "cell_type": "code",
   "execution_count": 2,
   "id": "939bbee2",
   "metadata": {
    "scrolled": false
   },
   "outputs": [],
   "source": [
    "X_train, X_test, Y_train, Y_test = train_test_split(X, Y, test_size = 0.2)\n",
    "\n",
    "rf = RandomForestClassifier()\n",
    "rf.fit(X_train, Y_train)\n",
    "\n",
    "Y_pred = rf.predict(X)\n",
    "\n",
    "accuracy = accuracy_score(Y, Y_pred)\n",
    "\n",
    "Capacity_name = []\n",
    "\n",
    "\n",
    "\n",
    "\n",
    "\n",
    "Normal_Y = scaler.fit_transform(pd.DataFrame(Y))\n",
    "\n",
    "\n",
    "Normal_Y_pred = scaler.fit_transform(pd.DataFrame(Y_pred))\n",
    "\n",
    "\n",
    "\n"
   ]
  },
  {
   "cell_type": "code",
   "execution_count": 3,
   "id": "ba270769",
   "metadata": {},
   "outputs": [],
   "source": [
    "for index, value in enumerate (Y_pred) :\n",
    "    Capacity_name.append((Y_pred[index], containers['Ship Name'][index]))"
   ]
  },
  {
   "cell_type": "code",
   "execution_count": 4,
   "id": "6d228b0d",
   "metadata": {},
   "outputs": [],
   "source": [
    "Capacity_name.sort(reverse=True)"
   ]
  },
  {
   "cell_type": "code",
   "execution_count": 5,
   "id": "8a52d4e7",
   "metadata": {},
   "outputs": [],
   "source": [
    "Top_10 = Capacity_name[0:10]"
   ]
  },
  {
   "cell_type": "code",
   "execution_count": 6,
   "id": "95ad62d8",
   "metadata": {},
   "outputs": [
    {
     "name": "stdout",
     "output_type": "stream",
     "text": [
      "[(23820, 'HMM STOCKHOLM'), (23820, 'HMM HELSINKI'), (21413, 'OOCL HONG KONG'), (21237, 'COSCO SHIPPING UNIVERSE'), (20776, 'CMA CGM ANTOINE DE SAINT EXUPERY'), (20568, 'MILAN MAERSK'), (20182, 'MOL TREASURE'), (20170, 'ONE TRIBUTE'), (20038, 'COSCO SHIPPING CAPRICORN'), (19870, 'MSC RIFAYA')]\n",
      "MSE \n",
      "0.013270469390765451\n"
     ]
    }
   ],
   "source": [
    "print(Top_10)\n",
    "print('MSE ')\n",
    "print(math.sqrt(mean_squared_error(Normal_Y, Normal_Y_pred) ))"
   ]
  },
  {
   "cell_type": "code",
   "execution_count": 7,
   "id": "0eb3815d",
   "metadata": {},
   "outputs": [
    {
     "name": "stdout",
     "output_type": "stream",
     "text": [
      "Accuracy: 0.79\n"
     ]
    }
   ],
   "source": [
    "X_train1, X_test1, Y_train1, Y_test1 = train_test_split(X, Y, test_size = 0.2)\n",
    "\n",
    "rf1 = MLPClassifier(hidden_layer_sizes=(150,100,50), max_iter=1000,activation = 'relu',solver='adam',random_state=1)\n",
    "rf1.fit(X_train1, Y_train1)\n",
    "\n",
    "Y_pred1 = rf1.predict(X)\n",
    "\n",
    "accuracy1 = accuracy_score(Y, Y_pred1)\n",
    "print(\"Accuracy:\", accuracy1)\n",
    "\n",
    "Capacity_name1 = []\n",
    "\n",
    "\n",
    "\n",
    "\n",
    "\n",
    "Normal_Y1 = scaler.fit_transform(pd.DataFrame(Y))\n",
    "\n",
    "\n",
    "Normal_Y_pred1 = scaler.fit_transform(pd.DataFrame(Y_pred1))\n",
    "\n",
    "\n",
    "\n",
    "\n"
   ]
  },
  {
   "cell_type": "code",
   "execution_count": 8,
   "id": "5ab49b79",
   "metadata": {},
   "outputs": [],
   "source": [
    "for index1, value1 in enumerate (Y_pred1) :\n",
    "    Capacity_name1.append((Y_pred1[index1], containers['Ship Name'][index1]))"
   ]
  },
  {
   "cell_type": "code",
   "execution_count": 9,
   "id": "3a56f49f",
   "metadata": {},
   "outputs": [
    {
     "name": "stdout",
     "output_type": "stream",
     "text": [
      "[(23964, 'HMM STOCKHOLM'), (23964, 'HMM HELSINKI'), (21413, 'OOCL HONG KONG'), (21237, 'COSCO SHIPPING UNIVERSE'), (20776, 'CMA CGM ANTOINE DE SAINT EXUPERY'), (20568, 'MILAN MAERSK'), (20182, 'MOL TREASURE'), (20170, 'ONE TRIBUTE'), (20038, 'COSCO SHIPPING CAPRICORN'), (19870, 'AL DAHNA')]\n",
      "MSE \n",
      "0.022183718227428373\n"
     ]
    }
   ],
   "source": [
    "Capacity_name1.sort(reverse=True)\n",
    "Top_10_1 = Capacity_name1[0:10]\n",
    "print(Top_10_1)\n",
    "print('MSE ')\n",
    "print(math.sqrt(mean_squared_error(Normal_Y1, Normal_Y_pred1) ))"
   ]
  },
  {
   "cell_type": "code",
   "execution_count": 10,
   "id": "0d844102",
   "metadata": {},
   "outputs": [],
   "source": [
    "X_train2, X_test2, Y_train2, Y_test2 = train_test_split(X, Y, test_size = 0.1)\n",
    "\n",
    "rf2 = SVR(kernel='rbf')\n",
    "rf2.fit(X_train2, Y_train2)\n",
    "\n",
    "Y_pred2 = rf2.predict(X)\n",
    "\n",
    "\n",
    "Capacity_name2 = []\n",
    "\n",
    "\n",
    "Normal_Y2 = scaler.fit_transform(pd.DataFrame(Y))\n",
    "\n",
    "\n",
    "Normal_Y_pred2 = scaler.fit_transform(pd.DataFrame(Y_pred2))\n",
    "\n",
    "\n",
    "\n",
    "\n"
   ]
  },
  {
   "cell_type": "code",
   "execution_count": 11,
   "id": "18a0a23b",
   "metadata": {},
   "outputs": [],
   "source": [
    "for index2, value2 in enumerate (Y_pred2) :\n",
    "    Capacity_name2.append((Y_pred2[index2], containers['Ship Name'][index2]))"
   ]
  },
  {
   "cell_type": "code",
   "execution_count": 12,
   "id": "3dbbf008",
   "metadata": {
    "scrolled": true
   },
   "outputs": [
    {
     "name": "stdout",
     "output_type": "stream",
     "text": [
      "[(8556.789975341748, 'MSC OSCAR'), (8556.70565999601, 'MOL TREASURE'), (8556.63449116139, 'OOCL HONG KONG'), (8556.509518217446, 'MSC HAMBURG'), (8556.481651363823, 'CSCL GLOBE'), (8556.474404987604, 'COSCO SHIPPING CAPRICORN'), (8556.46057694989, 'ONE TRIBUTE'), (8556.459673213869, 'AL DAHNA'), (8556.43781731817, 'MSC RIFAYA'), (8555.666111608183, 'CMA CGM ANTOINE DE SAINT EXUPERY')]\n",
      "MSE \n",
      "0.20086381534797917\n"
     ]
    }
   ],
   "source": [
    "Capacity_name2.sort(reverse=True)\n",
    "Top_10_2 = Capacity_name2[0:10]\n",
    "print(Top_10_2)\n",
    "print('MSE ')\n",
    "print(math.sqrt(mean_squared_error(Normal_Y2, Normal_Y_pred2) ))"
   ]
  },
  {
   "cell_type": "code",
   "execution_count": null,
   "id": "7999fa9c",
   "metadata": {},
   "outputs": [],
   "source": []
  }
 ],
 "metadata": {
  "kernelspec": {
   "display_name": "Python 3 (ipykernel)",
   "language": "python",
   "name": "python3"
  },
  "language_info": {
   "codemirror_mode": {
    "name": "ipython",
    "version": 3
   },
   "file_extension": ".py",
   "mimetype": "text/x-python",
   "name": "python",
   "nbconvert_exporter": "python",
   "pygments_lexer": "ipython3",
   "version": "3.10.9"
  }
 },
 "nbformat": 4,
 "nbformat_minor": 5
}
